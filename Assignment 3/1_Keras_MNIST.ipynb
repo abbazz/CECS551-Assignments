{
 "cells": [
  {
   "cell_type": "markdown",
   "metadata": {},
   "source": [
    "## Handwritten Image Detection with Keras using MNIST data\n",
    "\n",
    "In this exercise we will work with image data: specifically the famous MNIST data set.  This data set contains 70,000 images of handwritten digits in grayscale (0=black, 255 = white).  The images are 28 pixels by 28 pixels for a total of 784 pixels.  This is quite small by image standards.  Also, the images are well centered and isolated.  This makes this problem solvable with standard fully connected neural nets without too much pre-work."
   ]
  },
  {
   "cell_type": "markdown",
   "metadata": {},
   "source": [
    "In the first part of this notebook, we will walk you through loading in the data, building a network, and training it.  Then it will be your turn to try different models and see if you can improve performance"
   ]
  },
  {
   "cell_type": "code",
   "execution_count": 1,
   "metadata": {},
   "outputs": [
    {
     "name": "stderr",
     "output_type": "stream",
     "text": [
      "Using TensorFlow backend.\n"
     ]
    }
   ],
   "source": [
    "# Preliminaries\n",
    "\n",
    "from __future__ import print_function\n",
    "\n",
    "import keras\n",
    "from keras.datasets import mnist\n",
    "from keras.models import Sequential\n",
    "from keras.layers import Dense, Dropout\n",
    "from keras.optimizers import RMSprop\n",
    "\n",
    "import numpy as np\n",
    "import matplotlib.pyplot as plt\n",
    "%matplotlib inline"
   ]
  },
  {
   "cell_type": "markdown",
   "metadata": {
    "collapsed": true
   },
   "source": [
    "Let's explore the dataset a little bit"
   ]
  },
  {
   "cell_type": "code",
   "execution_count": 2,
   "metadata": {},
   "outputs": [
    {
     "name": "stdout",
     "output_type": "stream",
     "text": [
      "Downloading data from https://s3.amazonaws.com/img-datasets/mnist.npz\n",
      "11493376/11490434 [==============================] - 3s 0us/step\n"
     ]
    }
   ],
   "source": [
    "# Load the data, shuffled and split between train and test sets (x_train and y_rain)\n",
    "(x_train, y_train), (x_test, y_test) = mnist.load_data()"
   ]
  },
  {
   "cell_type": "code",
   "execution_count": 3,
   "metadata": {},
   "outputs": [
    {
     "data": {
      "text/plain": [
       "(28, 28)"
      ]
     },
     "execution_count": 3,
     "metadata": {},
     "output_type": "execute_result"
    }
   ],
   "source": [
    "x_train[0].shape"
   ]
  },
  {
   "cell_type": "code",
   "execution_count": 4,
   "metadata": {},
   "outputs": [
    {
     "data": {
      "text/plain": [
       "array([[  0,   0,   0,   0,   0,   0,   0,   0,   0,   0,   0,   0,   0,\n",
       "          0,   0,   0,   0,   0,   0,   0,   0,   0,   0,   0,   0,   0,\n",
       "          0,   0],\n",
       "       [  0,   0,   0,   0,   0,   0,   0,   0,   0,   0,   0,   0,   0,\n",
       "          0,   0,   0,   0,   0,   0,   0,   0,   0,   0,   0,   0,   0,\n",
       "          0,   0],\n",
       "       [  0,   0,   0,   0,   0,   0,   0,   0,   0,   0,   0,   0,   0,\n",
       "          0,   0,   0,   0,   0,   0,   0,   0,   0,   0,   0,   0,   0,\n",
       "          0,   0],\n",
       "       [  0,   0,   0,   0,   0,   0,   0,   0,   0,   0,   0,   0,   0,\n",
       "          0,   0,   0,   0,   0,   0,   0,   0,   0,   0,   0,   0,   0,\n",
       "          0,   0],\n",
       "       [  0,   0,   0,   0,   0,   0,   0,   0,   0,   0,   0,   0,   0,\n",
       "          0,   0,   0,   0,   0,   0,   0,   0,   0,   0,   0,   0,   0,\n",
       "          0,   0],\n",
       "       [  0,   0,   0,   0,   0,   0,   0,   0,   0,   0,   0,  87, 138,\n",
       "        170, 253, 201, 244, 212, 222, 138,  86,  22,   0,   0,   0,   0,\n",
       "          0,   0],\n",
       "       [  0,   0,   0,   0,   0,   0,   0,   0,   0,   0,  95, 253, 252,\n",
       "        252, 252, 252, 253, 252, 252, 252, 252, 245,  80,   0,   0,   0,\n",
       "          0,   0],\n",
       "       [  0,   0,   0,   0,   0,   0,   0,   0,   0,  68, 246, 205,  69,\n",
       "         69,  69,  69,  69,  69,  69,  69, 205, 253, 240,  50,   0,   0,\n",
       "          0,   0],\n",
       "       [  0,   0,   0,   0,   0,   0,   0,   0,   0, 187, 252, 218,  34,\n",
       "          0,   0,   0,   0,   0,   0,   0, 116, 253, 252,  69,   0,   0,\n",
       "          0,   0],\n",
       "       [  0,   0,   0,   0,   0,   0,   0,   0, 116, 248, 252, 253,  92,\n",
       "          0,   0,   0,   0,   0,   0,  95, 230, 253, 157,   6,   0,   0,\n",
       "          0,   0],\n",
       "       [  0,   0,   0,   0,   0,   0,   0,   0, 116, 249, 253, 189,  42,\n",
       "          0,   0,   0,   0,  36, 170, 253, 243, 158,   0,   0,   0,   0,\n",
       "          0,   0],\n",
       "       [  0,   0,   0,   0,   0,   0,   0,   0,   0, 133, 252, 245, 140,\n",
       "         34,   0,   0,  57, 219, 252, 235,  60,   0,   0,   0,   0,   0,\n",
       "          0,   0],\n",
       "       [  0,   0,   0,   0,   0,   0,   0,   0,   0,  25, 205, 253, 252,\n",
       "        234, 184, 184, 253, 240, 100,  44,   0,   0,   0,   0,   0,   0,\n",
       "          0,   0],\n",
       "       [  0,   0,   0,   0,   0,   0,   0,   0,   0,   0,  21, 161, 219,\n",
       "        252, 252, 252, 234,  37,   0,   0,   0,   0,   0,   0,   0,   0,\n",
       "          0,   0],\n",
       "       [  0,   0,   0,   0,   0,   0,   0,   0,   0,   0,   0,  11, 203,\n",
       "        252, 252, 252, 251, 135,   0,   0,   0,   0,   0,   0,   0,   0,\n",
       "          0,   0],\n",
       "       [  0,   0,   0,   0,   0,   0,   0,   0,   0,   9,  76, 255, 253,\n",
       "        205, 168, 220, 255, 253, 137,   5,   0,   0,   0,   0,   0,   0,\n",
       "          0,   0],\n",
       "       [  0,   0,   0,   0,   0,   0,   0,   0,   0, 114, 252, 249, 132,\n",
       "         25,   0,   0, 180, 252, 252,  45,   0,   0,   0,   0,   0,   0,\n",
       "          0,   0],\n",
       "       [  0,   0,   0,   0,   0,   0,   0,   0,  51, 220, 252, 199,   0,\n",
       "          0,   0,   0,  38, 186, 252, 154,   7,   0,   0,   0,   0,   0,\n",
       "          0,   0],\n",
       "       [  0,   0,   0,   0,   0,   0,   0,   0, 184, 252, 252,  21,   0,\n",
       "          0,   0,   0,   0,  67, 252, 252,  22,   0,   0,   0,   0,   0,\n",
       "          0,   0],\n",
       "       [  0,   0,   0,   0,   0,   0,   0,   0, 184, 252, 200,   0,   0,\n",
       "          0,   0,   0,   0,  47, 252, 252,  22,   0,   0,   0,   0,   0,\n",
       "          0,   0],\n",
       "       [  0,   0,   0,   0,   0,   0,   0,   0, 185, 253, 201,   0,   0,\n",
       "          0,   0,   0,   3, 118, 253, 245,  21,   0,   0,   0,   0,   0,\n",
       "          0,   0],\n",
       "       [  0,   0,   0,   0,   0,   0,   0,   0, 163, 252, 252,   0,   0,\n",
       "          0,   0,   0,  97, 252, 252,  87,   0,   0,   0,   0,   0,   0,\n",
       "          0,   0],\n",
       "       [  0,   0,   0,   0,   0,   0,   0,   0,  51, 240, 252, 123,  70,\n",
       "         70, 112, 184, 222, 252, 170,  13,   0,   0,   0,   0,   0,   0,\n",
       "          0,   0],\n",
       "       [  0,   0,   0,   0,   0,   0,   0,   0,   0, 165, 252, 253, 252,\n",
       "        252, 252, 252, 245, 139,  13,   0,   0,   0,   0,   0,   0,   0,\n",
       "          0,   0],\n",
       "       [  0,   0,   0,   0,   0,   0,   0,   0,   0,   9,  75, 253, 252,\n",
       "        221, 137, 137,  21,   0,   0,   0,   0,   0,   0,   0,   0,   0,\n",
       "          0,   0],\n",
       "       [  0,   0,   0,   0,   0,   0,   0,   0,   0,   0,   0,   0,   0,\n",
       "          0,   0,   0,   0,   0,   0,   0,   0,   0,   0,   0,   0,   0,\n",
       "          0,   0],\n",
       "       [  0,   0,   0,   0,   0,   0,   0,   0,   0,   0,   0,   0,   0,\n",
       "          0,   0,   0,   0,   0,   0,   0,   0,   0,   0,   0,   0,   0,\n",
       "          0,   0],\n",
       "       [  0,   0,   0,   0,   0,   0,   0,   0,   0,   0,   0,   0,   0,\n",
       "          0,   0,   0,   0,   0,   0,   0,   0,   0,   0,   0,   0,   0,\n",
       "          0,   0]], dtype=uint8)"
      ]
     },
     "execution_count": 4,
     "metadata": {},
     "output_type": "execute_result"
    }
   ],
   "source": [
    "#Let's just look at a particular example to see what is inside\n",
    "\n",
    "x_train[333]  ## Just a 28 x 28 numpy array of ints from 0 to 255"
   ]
  },
  {
   "cell_type": "code",
   "execution_count": 5,
   "metadata": {},
   "outputs": [
    {
     "data": {
      "text/plain": [
       "8"
      ]
     },
     "execution_count": 5,
     "metadata": {},
     "output_type": "execute_result"
    }
   ],
   "source": [
    "# What is the corresponding label in the training set?\n",
    "y_train[333]"
   ]
  },
  {
   "cell_type": "code",
   "execution_count": 6,
   "metadata": {},
   "outputs": [
    {
     "data": {
      "text/plain": [
       "<matplotlib.image.AxesImage at 0x20ececb90b8>"
      ]
     },
     "execution_count": 6,
     "metadata": {},
     "output_type": "execute_result"
    },
    {
     "data": {
      "image/png": "[encoded data removed]",
      "text/plain": [
       "<Figure size 432x288 with 1 Axes>"
      ]
     },
     "metadata": {
      "needs_background": "light"
     },
     "output_type": "display_data"
    }
   ],
   "source": [
    "# Let's see what this image actually looks like\n",
    "\n",
    "plt.imshow(x_train[333], cmap='Greys_r')"
   ]
  },
  {
   "cell_type": "code",
   "execution_count": 7,
   "metadata": {},
   "outputs": [
    {
     "name": "stdout",
     "output_type": "stream",
     "text": [
      "(60000, 28, 28) train samples\n",
      "(10000, 28, 28) test samples\n"
     ]
    }
   ],
   "source": [
    "# this is the shape of the np.array x_train\n",
    "# it is 3 dimensional.\n",
    "print(x_train.shape, 'train samples')\n",
    "print(x_test.shape, 'test samples')"
   ]
  },
  {
   "cell_type": "code",
   "execution_count": 8,
   "metadata": {},
   "outputs": [],
   "source": [
    "## For our purposes, these images are just a vector of 784 inputs, so let's convert\n",
    "x_train = x_train.reshape(len(x_train), 28*28)\n",
    "x_test = x_test.reshape(len(x_test), 28*28)\n",
    "\n",
    "## Keras works with floats, so we must cast the numbers to floats\n",
    "x_train = x_train.astype('float32')\n",
    "x_test = x_test.astype('float32')\n",
    "\n",
    "## Normalize the inputs so they are between 0 and 1\n",
    "x_train /= 255\n",
    "x_test /= 255\n"
   ]
  },
  {
   "cell_type": "code",
   "execution_count": 9,
   "metadata": {},
   "outputs": [
    {
     "data": {
      "text/plain": [
       "array([0., 0., 0., 0., 0., 0., 0., 0., 1., 0.], dtype=float32)"
      ]
     },
     "execution_count": 9,
     "metadata": {},
     "output_type": "execute_result"
    }
   ],
   "source": [
    "# convert class vectors to binary class matrices\n",
    "num_classes = 10\n",
    "y_train = keras.utils.to_categorical(y_train, num_classes)\n",
    "y_test = keras.utils.to_categorical(y_test, num_classes)\n",
    "\n",
    "y_train[333]  # now the digit k is represented by a 1 in the kth entry (0-indexed) of the length 10 vector"
   ]
  },
  {
   "cell_type": "code",
   "execution_count": 10,
   "metadata": {},
   "outputs": [
    {
     "name": "stdout",
     "output_type": "stream",
     "text": [
      "WARNING:tensorflow:From C:\\Users\\abbaz\\Anaconda\\envs\\cecs551\\lib\\site-packages\\tensorflow\\python\\framework\\op_def_library.py:263: colocate_with (from tensorflow.python.framework.ops) is deprecated and will be removed in a future version.\n",
      "Instructions for updating:\n",
      "Colocations handled automatically by placer.\n",
      "WARNING:tensorflow:From C:\\Users\\abbaz\\Anaconda\\envs\\cecs551\\lib\\site-packages\\keras\\backend\\tensorflow_backend.py:3445: calling dropout (from tensorflow.python.ops.nn_ops) with keep_prob is deprecated and will be removed in a future version.\n",
      "Instructions for updating:\n",
      "Please use `rate` instead of `keep_prob`. Rate should be set to `rate = 1 - keep_prob`.\n"
     ]
    }
   ],
   "source": [
    "# We will build a model with two hidden layers of size 64\n",
    "# Fully connected inputs at each layer\n",
    "# We will use dropout of .2 to help regularize\n",
    "model_1 = Sequential()\n",
    "model_1.add(Dense(64, activation='relu', input_shape=(784,)))\n",
    "model_1.add(Dropout(0.2))\n",
    "model_1.add(Dense(64, activation='relu'))\n",
    "model_1.add(Dropout(0.2))\n",
    "model_1.add(Dense(10, activation='softmax'))"
   ]
  },
  {
   "cell_type": "code",
   "execution_count": 11,
   "metadata": {},
   "outputs": [
    {
     "name": "stdout",
     "output_type": "stream",
     "text": [
      "_________________________________________________________________\n",
      "Layer (type)                 Output Shape              Param #   \n",
      "=================================================================\n",
      "dense_1 (Dense)              (None, 64)                50240     \n",
      "_________________________________________________________________\n",
      "dropout_1 (Dropout)          (None, 64)                0         \n",
      "_________________________________________________________________\n",
      "dense_2 (Dense)              (None, 64)                4160      \n",
      "_________________________________________________________________\n",
      "dropout_2 (Dropout)          (None, 64)                0         \n",
      "_________________________________________________________________\n",
      "dense_3 (Dense)              (None, 10)                650       \n",
      "=================================================================\n",
      "Total params: 55,050\n",
      "Trainable params: 55,050\n",
      "Non-trainable params: 0\n",
      "_________________________________________________________________\n"
     ]
    }
   ],
   "source": [
    "## Note that this model has a LOT of parameters\n",
    "model_1.summary()"
   ]
  },
  {
   "cell_type": "code",
   "execution_count": 12,
   "metadata": {},
   "outputs": [],
   "source": [
    "# Let's compile the model\n",
    "learning_rate = .001\n",
    "model_1.compile(loss='categorical_crossentropy',\n",
    "              optimizer=RMSprop(lr=learning_rate),\n",
    "              metrics=['accuracy'])\n",
    "# note that `categorical cross entropy` is the natural generalization \n",
    "# of the loss function we had in binary classification case, to multi class case"
   ]
  },
  {
   "cell_type": "code",
   "execution_count": 13,
   "metadata": {},
   "outputs": [
    {
     "name": "stdout",
     "output_type": "stream",
     "text": [
      "WARNING:tensorflow:From C:\\Users\\abbaz\\Anaconda\\envs\\cecs551\\lib\\site-packages\\tensorflow\\python\\ops\\math_ops.py:3066: to_int32 (from tensorflow.python.ops.math_ops) is deprecated and will be removed in a future version.\n",
      "Instructions for updating:\n",
      "Use tf.cast instead.\n",
      "Train on 60000 samples, validate on 10000 samples\n",
      "Epoch 1/30\n",
      "60000/60000 [==============================] - 2s 38us/step - loss: 0.5211 - acc: 0.8435 - val_loss: 0.1987 - val_acc: 0.9380\n",
      "Epoch 2/30\n",
      "60000/60000 [==============================] - 1s 22us/step - loss: 0.2503 - acc: 0.9256 - val_loss: 0.1475 - val_acc: 0.9550\n",
      "Epoch 3/30\n",
      "60000/60000 [==============================] - 1s 23us/step - loss: 0.1961 - acc: 0.9419 - val_loss: 0.1300 - val_acc: 0.9603\n",
      "Epoch 4/30\n",
      "60000/60000 [==============================] - 1s 25us/step - loss: 0.1705 - acc: 0.9497 - val_loss: 0.1154 - val_acc: 0.9645\n",
      "Epoch 5/30\n",
      "60000/60000 [==============================] - 1s 24us/step - loss: 0.1530 - acc: 0.9546 - val_loss: 0.1064 - val_acc: 0.9676\n",
      "Epoch 6/30\n",
      "60000/60000 [==============================] - 1s 25us/step - loss: 0.1436 - acc: 0.9565 - val_loss: 0.1000 - val_acc: 0.9700\n",
      "Epoch 7/30\n",
      "60000/60000 [==============================] - 1s 24us/step - loss: 0.1321 - acc: 0.9604 - val_loss: 0.0978 - val_acc: 0.9702\n",
      "Epoch 8/30\n",
      "60000/60000 [==============================] - 1s 22us/step - loss: 0.1260 - acc: 0.9629 - val_loss: 0.1024 - val_acc: 0.9697\n",
      "Epoch 9/30\n",
      "60000/60000 [==============================] - 2s 25us/step - loss: 0.1199 - acc: 0.9650 - val_loss: 0.0997 - val_acc: 0.9721\n",
      "Epoch 10/30\n",
      "60000/60000 [==============================] - 2s 25us/step - loss: 0.1124 - acc: 0.9656 - val_loss: 0.0968 - val_acc: 0.9738\n",
      "Epoch 11/30\n",
      "60000/60000 [==============================] - 1s 23us/step - loss: 0.1086 - acc: 0.9677 - val_loss: 0.0927 - val_acc: 0.9739\n",
      "Epoch 12/30\n",
      "60000/60000 [==============================] - 1s 24us/step - loss: 0.1071 - acc: 0.9687 - val_loss: 0.0957 - val_acc: 0.9736\n",
      "Epoch 13/30\n",
      "60000/60000 [==============================] - 2s 26us/step - loss: 0.1050 - acc: 0.9692 - val_loss: 0.0930 - val_acc: 0.9749\n",
      "Epoch 14/30\n",
      "60000/60000 [==============================] - 1s 23us/step - loss: 0.1026 - acc: 0.9692 - val_loss: 0.0925 - val_acc: 0.9745\n",
      "Epoch 15/30\n",
      "60000/60000 [==============================] - 1s 24us/step - loss: 0.0993 - acc: 0.9701 - val_loss: 0.0915 - val_acc: 0.9745\n",
      "Epoch 16/30\n",
      "60000/60000 [==============================] - 1s 23us/step - loss: 0.0963 - acc: 0.9716 - val_loss: 0.0958 - val_acc: 0.9743\n",
      "Epoch 17/30\n",
      "60000/60000 [==============================] - 1s 24us/step - loss: 0.0956 - acc: 0.9715 - val_loss: 0.0909 - val_acc: 0.9748\n",
      "Epoch 18/30\n",
      "60000/60000 [==============================] - 1s 25us/step - loss: 0.0921 - acc: 0.9728 - val_loss: 0.0945 - val_acc: 0.9767\n",
      "Epoch 19/30\n",
      "60000/60000 [==============================] - 1s 23us/step - loss: 0.0928 - acc: 0.9731 - val_loss: 0.0968 - val_acc: 0.9746\n",
      "Epoch 20/30\n",
      "60000/60000 [==============================] - 1s 23us/step - loss: 0.0911 - acc: 0.9738 - val_loss: 0.1028 - val_acc: 0.9728\n",
      "Epoch 21/30\n",
      "60000/60000 [==============================] - 1s 25us/step - loss: 0.0916 - acc: 0.9729 - val_loss: 0.0967 - val_acc: 0.9741\n",
      "Epoch 22/30\n",
      "60000/60000 [==============================] - 1s 24us/step - loss: 0.0904 - acc: 0.9740 - val_loss: 0.0994 - val_acc: 0.9750\n",
      "Epoch 23/30\n",
      "60000/60000 [==============================] - 1s 23us/step - loss: 0.0874 - acc: 0.9750 - val_loss: 0.0981 - val_acc: 0.9767\n",
      "Epoch 24/30\n",
      "60000/60000 [==============================] - 1s 23us/step - loss: 0.0873 - acc: 0.9751 - val_loss: 0.0974 - val_acc: 0.9769\n",
      "Epoch 25/30\n",
      "60000/60000 [==============================] - 1s 23us/step - loss: 0.0836 - acc: 0.9762 - val_loss: 0.1004 - val_acc: 0.9767\n",
      "Epoch 26/30\n",
      "60000/60000 [==============================] - 1s 25us/step - loss: 0.0870 - acc: 0.9756 - val_loss: 0.1059 - val_acc: 0.9744\n",
      "Epoch 27/30\n",
      "60000/60000 [==============================] - ETA: 0s - loss: 0.0830 - acc: 0.975 - 2s 25us/step - loss: 0.0828 - acc: 0.9759 - val_loss: 0.1004 - val_acc: 0.9761\n",
      "Epoch 28/30\n",
      "60000/60000 [==============================] - 2s 26us/step - loss: 0.0834 - acc: 0.9755 - val_loss: 0.1044 - val_acc: 0.9749\n",
      "Epoch 29/30\n",
      "60000/60000 [==============================] - 2s 25us/step - loss: 0.0813 - acc: 0.9767 - val_loss: 0.1048 - val_acc: 0.9772\n",
      "Epoch 30/30\n",
      "60000/60000 [==============================] - 2s 25us/step - loss: 0.0832 - acc: 0.9762 - val_loss: 0.1073 - val_acc: 0.9772\n"
     ]
    }
   ],
   "source": [
    "# And now let's fit.\n",
    "\n",
    "batch_size = 128  # mini-batch with 128 examples\n",
    "epochs = 30\n",
    "history = model_1.fit(\n",
    "    x_train, y_train,\n",
    "    batch_size=batch_size,\n",
    "    epochs=epochs,\n",
    "    verbose=1,\n",
    "    validation_data=(x_test, y_test))"
   ]
  },
  {
   "cell_type": "code",
   "execution_count": 14,
   "metadata": {},
   "outputs": [
    {
     "name": "stdout",
     "output_type": "stream",
     "text": [
      "Test loss: 0.10730758694201067\n",
      "Test accuracy: 0.9772\n"
     ]
    }
   ],
   "source": [
    "## We will use Keras evaluate function to evaluate performance on the test set\n",
    "\n",
    "score = model_1.evaluate(x_test, y_test, verbose=0)\n",
    "print('Test loss:', score[0])\n",
    "print('Test accuracy:', score[1])"
   ]
  },
  {
   "cell_type": "code",
   "execution_count": 15,
   "metadata": {},
   "outputs": [
    {
     "data": {
      "image/png": "[encoded data removed]",
      "text/plain": [
       "<Figure size 864x432 with 2 Axes>"
      ]
     },
     "metadata": {
      "needs_background": "light"
     },
     "output_type": "display_data"
    }
   ],
   "source": [
    "def plot_loss_accuracy(history):\n",
    "    fig = plt.figure(figsize=(12, 6))\n",
    "    ax = fig.add_subplot(1, 2, 1)\n",
    "    ax.plot(history.history[\"loss\"],'r-x', label=\"Train Loss\")\n",
    "    ax.plot(history.history[\"val_loss\"],'b-x', label=\"Validation Loss\")\n",
    "    ax.legend()\n",
    "    ax.set_title('cross_entropy loss')\n",
    "    ax.grid(True)\n",
    "\n",
    "\n",
    "    ax = fig.add_subplot(1, 2, 2)\n",
    "    ax.plot(history.history[\"acc\"],'r-x', label=\"Train Accuracy\")\n",
    "    ax.plot(history.history[\"val_acc\"],'b-x', label=\"Validation Accuracy\")\n",
    "    ax.legend()\n",
    "    ax.set_title('accuracy')\n",
    "    ax.grid(True)\n",
    "    \n",
    "\n",
    "plot_loss_accuracy(history)"
   ]
  },
  {
   "cell_type": "markdown",
   "metadata": {},
   "source": [
    "This is reasonably good performance, but we can do even better!  Next you will build an even bigger network and compare the performance."
   ]
  },
  {
   "cell_type": "markdown",
   "metadata": {},
   "source": [
    "## Exercise\n",
    "### Your Turn: Build your own model\n",
    "Use the Keras \"Sequential\" functionality to build `model_2` with the following specifications:\n",
    "\n",
    "1. Two hidden layers.\n",
    "2. First hidden layer of size 400 and second of size 300\n",
    "3. Dropout of .4 at each layer\n",
    "4. How many parameters does your model have?  How does it compare with the previous model?\n",
    "4. Train this model for 20 epochs with RMSProp at a learning rate of .001 and a batch size of 128\n",
    "\n",
    "\n"
   ]
  },
  {
   "cell_type": "code",
   "execution_count": 16,
   "metadata": {},
   "outputs": [],
   "source": [
    "### Build your model here\n",
    "model_2 = Sequential()\n",
    "model_2.add(Dense(400, activation= 'relu', input_shape=(784,)))\n",
    "model_2.add(Dropout(0.4))\n",
    "model_2.add(Dense(400, activation= 'relu'))\n",
    "model_2.add(Dropout(0.4))\n",
    "model_2.add(Dense(10, activation= 'softmax'))"
   ]
  },
  {
   "cell_type": "markdown",
   "metadata": {
    "collapsed": true
   },
   "source": [
    "model_2.summary()"
   ]
  },
  {
   "cell_type": "code",
   "execution_count": 17,
   "metadata": {},
   "outputs": [
    {
     "name": "stdout",
     "output_type": "stream",
     "text": [
      "_________________________________________________________________\n",
      "Layer (type)                 Output Shape              Param #   \n",
      "=================================================================\n",
      "dense_4 (Dense)              (None, 400)               314000    \n",
      "_________________________________________________________________\n",
      "dropout_3 (Dropout)          (None, 400)               0         \n",
      "_________________________________________________________________\n",
      "dense_5 (Dense)              (None, 400)               160400    \n",
      "_________________________________________________________________\n",
      "dropout_4 (Dropout)          (None, 400)               0         \n",
      "_________________________________________________________________\n",
      "dense_6 (Dense)              (None, 10)                4010      \n",
      "=================================================================\n",
      "Total params: 478,410\n",
      "Trainable params: 478,410\n",
      "Non-trainable params: 0\n",
      "_________________________________________________________________\n"
     ]
    }
   ],
   "source": [
    "model_2.summary()"
   ]
  },
  {
   "cell_type": "code",
   "execution_count": 18,
   "metadata": {},
   "outputs": [],
   "source": [
    "learning_rate = .001\n",
    "model_2.compile(loss='categorical_crossentropy',\n",
    "optimizer=RMSprop(lr=learning_rate),\n",
    "metrics=['accuracy'])"
   ]
  },
  {
   "cell_type": "code",
   "execution_count": 19,
   "metadata": {},
   "outputs": [
    {
     "name": "stdout",
     "output_type": "stream",
     "text": [
      "Train on 60000 samples, validate on 10000 samples\n",
      "Epoch 1/20\n",
      "60000/60000 [==============================] - 5s 81us/step - loss: 0.3154 - acc: 0.9036 - val_loss: 0.1179 - val_acc: 0.9635\n",
      "Epoch 2/20\n",
      "60000/60000 [==============================] - 5s 76us/step - loss: 0.1476 - acc: 0.9563 - val_loss: 0.0998 - val_acc: 0.9689\n",
      "Epoch 3/20\n",
      "60000/60000 [==============================] - 5s 87us/step - loss: 0.1148 - acc: 0.9665 - val_loss: 0.0884 - val_acc: 0.9751\n",
      "Epoch 4/20\n",
      "60000/60000 [==============================] - 5s 76us/step - loss: 0.1021 - acc: 0.9706 - val_loss: 0.0825 - val_acc: 0.9782\n",
      "Epoch 5/20\n",
      "60000/60000 [==============================] - 4s 74us/step - loss: 0.0888 - acc: 0.9746 - val_loss: 0.0821 - val_acc: 0.9780\n",
      "Epoch 6/20\n",
      "60000/60000 [==============================] - 4s 75us/step - loss: 0.0810 - acc: 0.9771 - val_loss: 0.0742 - val_acc: 0.9810\n",
      "Epoch 7/20\n",
      "60000/60000 [==============================] - 4s 75us/step - loss: 0.0753 - acc: 0.9781 - val_loss: 0.0946 - val_acc: 0.9795\n",
      "Epoch 8/20\n",
      "60000/60000 [==============================] - 10s 174us/step - loss: 0.0723 - acc: 0.9789 - val_loss: 0.0842 - val_acc: 0.9805\n",
      "Epoch 9/20\n",
      "60000/60000 [==============================] - 7s 120us/step - loss: 0.0682 - acc: 0.9811 - val_loss: 0.0876 - val_acc: 0.9796\n",
      "Epoch 10/20\n",
      "60000/60000 [==============================] - 6s 105us/step - loss: 0.0660 - acc: 0.9822 - val_loss: 0.0891 - val_acc: 0.9806\n",
      "Epoch 11/20\n",
      "60000/60000 [==============================] - 4s 75us/step - loss: 0.0645 - acc: 0.9813 - val_loss: 0.0926 - val_acc: 0.9793\n",
      "Epoch 12/20\n",
      "60000/60000 [==============================] - 4s 75us/step - loss: 0.0624 - acc: 0.9832 - val_loss: 0.0850 - val_acc: 0.9816\n",
      "Epoch 13/20\n",
      "60000/60000 [==============================] - 5s 76us/step - loss: 0.0610 - acc: 0.9836 - val_loss: 0.0845 - val_acc: 0.9817\n",
      "Epoch 14/20\n",
      "60000/60000 [==============================] - 5s 82us/step - loss: 0.0576 - acc: 0.9855 - val_loss: 0.0910 - val_acc: 0.9812\n",
      "Epoch 15/20\n",
      "60000/60000 [==============================] - 5s 82us/step - loss: 0.0559 - acc: 0.9855 - val_loss: 0.0945 - val_acc: 0.9811\n",
      "Epoch 16/20\n",
      "60000/60000 [==============================] - 5s 81us/step - loss: 0.0569 - acc: 0.9854 - val_loss: 0.0820 - val_acc: 0.9843\n",
      "Epoch 17/20\n",
      "60000/60000 [==============================] - 5s 82us/step - loss: 0.0568 - acc: 0.9855 - val_loss: 0.0952 - val_acc: 0.9810\n",
      "Epoch 18/20\n",
      "60000/60000 [==============================] - 5s 82us/step - loss: 0.0546 - acc: 0.9863 - val_loss: 0.0918 - val_acc: 0.9830\n",
      "Epoch 19/20\n",
      "60000/60000 [==============================] - 5s 83us/step - loss: 0.0501 - acc: 0.9874 - val_loss: 0.1006 - val_acc: 0.9813\n",
      "Epoch 20/20\n",
      "60000/60000 [==============================] - 5s 83us/step - loss: 0.0531 - acc: 0.9868 - val_loss: 0.0943 - val_acc: 0.9813\n"
     ]
    }
   ],
   "source": [
    "batch_size = 128\n",
    "epochs = 20\n",
    "history_model_2 = model_2.fit(\n",
    "x_train, y_train,\n",
    "batch_size=batch_size,\n",
    "epochs=epochs,\n",
    "verbose=1,\n",
    "validation_data=(x_test, y_test))"
   ]
  },
  {
   "cell_type": "markdown",
   "metadata": {},
   "source": [
    "## SOLUTION"
   ]
  },
  {
   "cell_type": "code",
   "execution_count": 20,
   "metadata": {},
   "outputs": [
    {
     "name": "stdout",
     "output_type": "stream",
     "text": [
      "Test loss: 0.0942792717663066\n",
      "Test accuracy: 0.9813\n"
     ]
    }
   ],
   "source": [
    "score = model_2.evaluate(x_test, y_test, verbose=0)\n",
    "print('Test loss:', score[0])\n",
    "print('Test accuracy:', score[1])"
   ]
  },
  {
   "cell_type": "code",
   "execution_count": 21,
   "metadata": {},
   "outputs": [
    {
     "data": {
      "image/png": "[encoded data removed]",
      "text/plain": [
       "<Figure size 864x432 with 2 Axes>"
      ]
     },
     "metadata": {
      "needs_background": "light"
     },
     "output_type": "display_data"
    }
   ],
   "source": [
    "plot_loss_accuracy(history_model_2)"
   ]
  },
  {
   "cell_type": "markdown",
   "metadata": {
    "collapsed": true
   },
   "source": [
    "## Think about the following questions\n",
    "\n",
    "1) How do model_1 and model_2 compare?  Which do you prefer?  If you were going to put one into production, which would you choose and why?\n",
    "\n",
    "2) Compare the trajectories of the loss function on the training set and test set for each model?  How do they compare?  What does that suggest about each model?  Do the same for accuracy?  Which do you think is more meaningful, the loss or the accuracy?\n",
    "\n",
    "3) Suggest an improvement to one of the models (changing structure, learning rate, number of epochs, etc.) that you think will result in a better model.  Try it out below?  Did it improve the performance?"
   ]
  },
  {
   "cell_type": "code",
   "execution_count": 22,
   "metadata": {},
   "outputs": [],
   "source": [
    "###########################################################################################\n",
    "# Answer: 1\n",
    "#\n",
    "# The training time applied for both these models turns out to be 1 second apart for each layer\n",
    "# which roughly takes 3-4 seconds for an epoch on my system.\n",
    "# However, the accuracy increases in model_2 as compared to modeol_1\n",
    "# Model_1 statistics conclusion:\n",
    "# Total Time Consumed: Approx 1 minute (1-2 seconds/epoch)\n",
    "# loss: 0.0832      Accuracy: 0.9762\n",
    "# Test loss: 0.10730        Test Accuracy: 0.9772\n",
    "#\n",
    "# Model_2 Statistics conclusion:\n",
    "# Total Time Consumed: Approx 2 minutes (4-5 seconds/epoch)\n",
    "# loss: 0.0531      Accuracy: 0.9868\n",
    "# Test loss: 0.09427        Test Accuracy: 0.9813\n",
    "#\n",
    "# As per my observations, the model_1 seems to be a better choice, as the parameters are less,\n",
    "# hence the time taken by each epochs is less, but it would be more affected\n",
    "# in case of a larger dataset.\n",
    "# Although, the accuracy is model_2 is better, it's not worth of the effort.\n",
    "# Also, the loss function in model_2 goes excessively high for epochs 5 to 9,\n",
    "# which clearly depicts overfitting on training data, which adds up to one more\n",
    "# reason model_1 is better."
   ]
  },
  {
   "cell_type": "code",
   "execution_count": 24,
   "metadata": {},
   "outputs": [],
   "source": [
    "###########################################################################################\n",
    "# Answer: 2\n",
    "#\n",
    "# Model_1:\n",
    "# Cross Entropy Error Loss and Accuracy:\n",
    "# loss: 0.0832      Accuracy: 0.9762\n",
    "# val loss: 0.1073     val acc: 0.9772\n",
    "#\n",
    "# Model_2:\n",
    "# Cross Entropy Error Loss and Accuracy:\n",
    "# loss: 0.0531      Accuracy: 0.9868\n",
    "# val loss: 0.0943     val acc: 0.9813\n",
    "#\n",
    "# So, cross entropy error loss in model_2 for both test and train data sets\n",
    "# are closer to each other.\n",
    "# however, error loss in model_1 for train and test data sets is increasing with\n",
    "# every epoch, thereby causing overfitting.\n",
    "#\n",
    "# Q: Which is more meaningful? loss or accuracy?\n",
    "# A: Both are equally important. However, in this case, we can observe loss is\n",
    "# more meaningful than accuracy.\n",
    "\n",
    "#############################################################################################\n",
    "# Answer 3\n",
    "#\n",
    "# Below is the model_3 that I have tried by reducing the learning rate"
   ]
  },
  {
   "cell_type": "code",
   "execution_count": 25,
   "metadata": {},
   "outputs": [],
   "source": [
    "model_3 = Sequential()\n",
    "model_3.add(Dense(400, activation='relu', input_shape=(784,)))\n",
    "model_3.add(Dropout(0.4))\n",
    "model_3.add(Dense(300, activation='relu'))\n",
    "model_3.add(Dropout(0.4))\n",
    "model_3.add(Dense(10, activation='softmax'))"
   ]
  },
  {
   "cell_type": "code",
   "execution_count": 26,
   "metadata": {},
   "outputs": [
    {
     "name": "stdout",
     "output_type": "stream",
     "text": [
      "_________________________________________________________________\n",
      "Layer (type)                 Output Shape              Param #   \n",
      "=================================================================\n",
      "dense_7 (Dense)              (None, 400)               314000    \n",
      "_________________________________________________________________\n",
      "dropout_5 (Dropout)          (None, 400)               0         \n",
      "_________________________________________________________________\n",
      "dense_8 (Dense)              (None, 300)               120300    \n",
      "_________________________________________________________________\n",
      "dropout_6 (Dropout)          (None, 300)               0         \n",
      "_________________________________________________________________\n",
      "dense_9 (Dense)              (None, 10)                3010      \n",
      "=================================================================\n",
      "Total params: 437,310\n",
      "Trainable params: 437,310\n",
      "Non-trainable params: 0\n",
      "_________________________________________________________________\n"
     ]
    }
   ],
   "source": [
    "model_3.summary()"
   ]
  },
  {
   "cell_type": "code",
   "execution_count": 27,
   "metadata": {},
   "outputs": [],
   "source": [
    "learning_rate = .0001\n",
    "model_3.compile(loss='categorical_crossentropy',\n",
    "optimizer=RMSprop(lr=learning_rate),\n",
    "metrics=['accuracy'])"
   ]
  },
  {
   "cell_type": "code",
   "execution_count": 28,
   "metadata": {},
   "outputs": [
    {
     "name": "stdout",
     "output_type": "stream",
     "text": [
      "Train on 60000 samples, validate on 10000 samples\n",
      "Epoch 1/20\n",
      "60000/60000 [==============================] - 5s 79us/step - loss: 0.8624 - acc: 0.7435 - val_loss: 0.3157 - val_acc: 0.9125\n",
      "Epoch 2/20\n",
      "60000/60000 [==============================] - 4s 69us/step - loss: 0.3709 - acc: 0.8899 - val_loss: 0.2308 - val_acc: 0.9335\n",
      "Epoch 3/20\n",
      "60000/60000 [==============================] - 4s 69us/step - loss: 0.2861 - acc: 0.9150 - val_loss: 0.1884 - val_acc: 0.9440\n",
      "Epoch 4/20\n",
      "60000/60000 [==============================] - 4s 68us/step - loss: 0.2363 - acc: 0.9302 - val_loss: 0.1620 - val_acc: 0.9507\n",
      "Epoch 5/20\n",
      "60000/60000 [==============================] - 5s 77us/step - loss: 0.2047 - acc: 0.9392 - val_loss: 0.1447 - val_acc: 0.9559\n",
      "Epoch 6/20\n",
      "60000/60000 [==============================] - 5s 88us/step - loss: 0.1810 - acc: 0.9458 - val_loss: 0.1304 - val_acc: 0.9605\n",
      "Epoch 7/20\n",
      "60000/60000 [==============================] - 4s 74us/step - loss: 0.1635 - acc: 0.9519 - val_loss: 0.1205 - val_acc: 0.9630\n",
      "Epoch 8/20\n",
      "60000/60000 [==============================] - 5s 76us/step - loss: 0.1502 - acc: 0.9553 - val_loss: 0.1100 - val_acc: 0.9664\n",
      "Epoch 9/20\n",
      "60000/60000 [==============================] - 5s 80us/step - loss: 0.1368 - acc: 0.9595 - val_loss: 0.1051 - val_acc: 0.9672\n",
      "Epoch 10/20\n",
      "60000/60000 [==============================] - 5s 75us/step - loss: 0.1266 - acc: 0.9622 - val_loss: 0.0999 - val_acc: 0.9697\n",
      "Epoch 11/20\n",
      "60000/60000 [==============================] - 5s 78us/step - loss: 0.1173 - acc: 0.9647 - val_loss: 0.0944 - val_acc: 0.9708\n",
      "Epoch 12/20\n",
      "60000/60000 [==============================] - 4s 75us/step - loss: 0.1130 - acc: 0.9671 - val_loss: 0.0914 - val_acc: 0.9721\n",
      "Epoch 13/20\n",
      "60000/60000 [==============================] - 5s 82us/step - loss: 0.1070 - acc: 0.9684 - val_loss: 0.0896 - val_acc: 0.9736\n",
      "Epoch 14/20\n",
      "60000/60000 [==============================] - 5s 81us/step - loss: 0.0996 - acc: 0.9704 - val_loss: 0.0869 - val_acc: 0.9734\n",
      "Epoch 15/20\n",
      "60000/60000 [==============================] - 5s 75us/step - loss: 0.0972 - acc: 0.9709 - val_loss: 0.0823 - val_acc: 0.9751\n",
      "Epoch 16/20\n",
      "60000/60000 [==============================] - 5s 76us/step - loss: 0.0891 - acc: 0.9734 - val_loss: 0.0819 - val_acc: 0.9763\n",
      "Epoch 17/20\n",
      "60000/60000 [==============================] - 5s 77us/step - loss: 0.0863 - acc: 0.9734 - val_loss: 0.0791 - val_acc: 0.9763\n",
      "Epoch 18/20\n",
      "60000/60000 [==============================] - 5s 85us/step - loss: 0.0845 - acc: 0.9748 - val_loss: 0.0758 - val_acc: 0.9771\n",
      "Epoch 19/20\n",
      "60000/60000 [==============================] - 5s 82us/step - loss: 0.0787 - acc: 0.9767 - val_loss: 0.0764 - val_acc: 0.9772\n",
      "Epoch 20/20\n",
      "60000/60000 [==============================] - 5s 76us/step - loss: 0.0754 - acc: 0.9768 - val_loss: 0.0749 - val_acc: 0.9776\n"
     ]
    }
   ],
   "source": [
    "batch_size = 128\n",
    "epochs = 20\n",
    "history_model_3 = model_3.fit(\n",
    "x_train, y_train,\n",
    "batch_size=batch_size,\n",
    "epochs=epochs,\n",
    "verbose=1,\n",
    "validation_data=(x_test, y_test))"
   ]
  },
  {
   "cell_type": "code",
   "execution_count": 29,
   "metadata": {},
   "outputs": [
    {
     "name": "stdout",
     "output_type": "stream",
     "text": [
      "Test loss: 0.07489215170784155\n",
      "Test accuracy: 0.9776\n"
     ]
    }
   ],
   "source": [
    "score = model_3.evaluate(x_test, y_test, verbose=0)\n",
    "print('Test loss:', score[0])\n",
    "print('Test accuracy:', score[1])"
   ]
  },
  {
   "cell_type": "code",
   "execution_count": 30,
   "metadata": {},
   "outputs": [
    {
     "data": {
      "image/png": "[encoded data removed]",
      "text/plain": [
       "<Figure size 864x432 with 2 Axes>"
      ]
     },
     "metadata": {
      "needs_background": "light"
     },
     "output_type": "display_data"
    }
   ],
   "source": [
    "plot_loss_accuracy(history_model_3)"
   ]
  },
  {
   "cell_type": "code",
   "execution_count": 31,
   "metadata": {},
   "outputs": [],
   "source": [
    "##################################################################################################\n",
    "# So after we reduce the learning rate from 0.001 to 0.0001, we got better results\n",
    "# Test loss: 0.07489215170784155\n",
    "# Test accuracy: 0.9776\n",
    "# val loss: 0.0749\n",
    "# val accuracy: 0.9776\n",
    "# Due to reduction in learning rate, the algorithm doesn't lose the minimum.\n",
    "#\n",
    "##################################################################################################3\n",
    "# Let's try the same model with 25 epochs."
   ]
  },
  {
   "cell_type": "code",
   "execution_count": 32,
   "metadata": {},
   "outputs": [],
   "source": [
    "model_4 = Sequential()\n",
    "model_4.add(Dense(400, activation='relu', input_shape=(784,)))\n",
    "model_4.add(Dropout(0.4))\n",
    "model_4.add(Dense(300, activation='relu'))\n",
    "model_4.add(Dropout(0.4))\n",
    "model_4.add(Dense(10, activation='softmax'))"
   ]
  },
  {
   "cell_type": "code",
   "execution_count": 33,
   "metadata": {},
   "outputs": [
    {
     "name": "stdout",
     "output_type": "stream",
     "text": [
      "_________________________________________________________________\n",
      "Layer (type)                 Output Shape              Param #   \n",
      "=================================================================\n",
      "dense_10 (Dense)             (None, 400)               314000    \n",
      "_________________________________________________________________\n",
      "dropout_7 (Dropout)          (None, 400)               0         \n",
      "_________________________________________________________________\n",
      "dense_11 (Dense)             (None, 300)               120300    \n",
      "_________________________________________________________________\n",
      "dropout_8 (Dropout)          (None, 300)               0         \n",
      "_________________________________________________________________\n",
      "dense_12 (Dense)             (None, 10)                3010      \n",
      "=================================================================\n",
      "Total params: 437,310\n",
      "Trainable params: 437,310\n",
      "Non-trainable params: 0\n",
      "_________________________________________________________________\n"
     ]
    }
   ],
   "source": [
    "model_4.summary()"
   ]
  },
  {
   "cell_type": "code",
   "execution_count": 34,
   "metadata": {},
   "outputs": [],
   "source": [
    "learning_rate = .0001\n",
    "model_4.compile(loss='categorical_crossentropy',\n",
    "optimizer=RMSprop(lr=learning_rate),\n",
    "metrics=['accuracy'])"
   ]
  },
  {
   "cell_type": "code",
   "execution_count": 35,
   "metadata": {},
   "outputs": [
    {
     "name": "stdout",
     "output_type": "stream",
     "text": [
      "Train on 60000 samples, validate on 10000 samples\n",
      "Epoch 1/25\n",
      "60000/60000 [==============================] - 5s 79us/step - loss: 0.8818 - acc: 0.7371 - val_loss: 0.3189 - val_acc: 0.9128\n",
      "Epoch 2/25\n",
      "60000/60000 [==============================] - 4s 70us/step - loss: 0.3765 - acc: 0.8880 - val_loss: 0.2373 - val_acc: 0.9320\n",
      "Epoch 3/25\n",
      "60000/60000 [==============================] - 4s 70us/step - loss: 0.2897 - acc: 0.9151 - val_loss: 0.1927 - val_acc: 0.9418\n",
      "Epoch 4/25\n",
      "60000/60000 [==============================] - 4s 70us/step - loss: 0.2389 - acc: 0.9293 - val_loss: 0.1652 - val_acc: 0.9516\n",
      "Epoch 5/25\n",
      "60000/60000 [==============================] - 4s 69us/step - loss: 0.2087 - acc: 0.9388 - val_loss: 0.1468 - val_acc: 0.9560\n",
      "Epoch 6/25\n",
      "60000/60000 [==============================] - 4s 69us/step - loss: 0.1840 - acc: 0.9448 - val_loss: 0.1318 - val_acc: 0.9604\n",
      "Epoch 7/25\n",
      "60000/60000 [==============================] - 4s 69us/step - loss: 0.1680 - acc: 0.9512 - val_loss: 0.1219 - val_acc: 0.9637\n",
      "Epoch 8/25\n",
      "60000/60000 [==============================] - 4s 69us/step - loss: 0.1532 - acc: 0.9543 - val_loss: 0.1126 - val_acc: 0.9663\n",
      "Epoch 9/25\n",
      "60000/60000 [==============================] - 4s 74us/step - loss: 0.1406 - acc: 0.9580 - val_loss: 0.1072 - val_acc: 0.9667\n",
      "Epoch 10/25\n",
      "60000/60000 [==============================] - 5s 76us/step - loss: 0.1297 - acc: 0.9617 - val_loss: 0.1005 - val_acc: 0.9694\n",
      "Epoch 11/25\n",
      "60000/60000 [==============================] - 5s 76us/step - loss: 0.1229 - acc: 0.9640 - val_loss: 0.0959 - val_acc: 0.9702\n",
      "Epoch 12/25\n",
      "60000/60000 [==============================] - 5s 76us/step - loss: 0.1135 - acc: 0.9657 - val_loss: 0.0918 - val_acc: 0.9716\n",
      "Epoch 13/25\n",
      "60000/60000 [==============================] - 5s 76us/step - loss: 0.1107 - acc: 0.9670 - val_loss: 0.0885 - val_acc: 0.9728\n",
      "Epoch 14/25\n",
      "60000/60000 [==============================] - 5s 75us/step - loss: 0.1010 - acc: 0.9705 - val_loss: 0.0857 - val_acc: 0.9750\n",
      "Epoch 15/25\n",
      "60000/60000 [==============================] - 5s 76us/step - loss: 0.0978 - acc: 0.9708 - val_loss: 0.0845 - val_acc: 0.9751\n",
      "Epoch 16/25\n",
      "60000/60000 [==============================] - 5s 76us/step - loss: 0.0916 - acc: 0.9733 - val_loss: 0.0826 - val_acc: 0.9744\n",
      "Epoch 17/25\n",
      "60000/60000 [==============================] - 5s 76us/step - loss: 0.0878 - acc: 0.9739 - val_loss: 0.0793 - val_acc: 0.9776\n",
      "Epoch 18/25\n",
      "60000/60000 [==============================] - 5s 82us/step - loss: 0.0848 - acc: 0.9751 - val_loss: 0.0793 - val_acc: 0.9765\n",
      "Epoch 19/25\n",
      "60000/60000 [==============================] - 5s 78us/step - loss: 0.0814 - acc: 0.9761 - val_loss: 0.0786 - val_acc: 0.9772\n",
      "Epoch 20/25\n",
      "60000/60000 [==============================] - 5s 79us/step - loss: 0.0760 - acc: 0.9778 - val_loss: 0.0766 - val_acc: 0.9775\n",
      "Epoch 21/25\n",
      "60000/60000 [==============================] - 5s 78us/step - loss: 0.0747 - acc: 0.9778 - val_loss: 0.0759 - val_acc: 0.9781\n",
      "Epoch 22/25\n",
      "60000/60000 [==============================] - 5s 78us/step - loss: 0.0731 - acc: 0.9779 - val_loss: 0.0755 - val_acc: 0.9779\n",
      "Epoch 23/25\n",
      "60000/60000 [==============================] - 5s 80us/step - loss: 0.0693 - acc: 0.9798 - val_loss: 0.0749 - val_acc: 0.9781\n",
      "Epoch 24/25\n",
      "60000/60000 [==============================] - 5s 78us/step - loss: 0.0677 - acc: 0.9801 - val_loss: 0.0740 - val_acc: 0.9786\n",
      "Epoch 25/25\n",
      "60000/60000 [==============================] - 5s 78us/step - loss: 0.0640 - acc: 0.9807 - val_loss: 0.0726 - val_acc: 0.9792\n"
     ]
    }
   ],
   "source": [
    "batch_size = 128 \n",
    "epochs = 25\n",
    "history_model_4 = model_4.fit(\n",
    "x_train, y_train,\n",
    "batch_size=batch_size,\n",
    "epochs=epochs,\n",
    "verbose=1,\n",
    "validation_data=(x_test, y_test))"
   ]
  },
  {
   "cell_type": "code",
   "execution_count": 36,
   "metadata": {},
   "outputs": [
    {
     "name": "stdout",
     "output_type": "stream",
     "text": [
      "Test loss: 0.0726388050250709\n",
      "Test accuracy: 0.9792\n"
     ]
    }
   ],
   "source": [
    "score = model_4.evaluate(x_test, y_test, verbose=0)\n",
    "print('Test loss:', score[0])\n",
    "print('Test accuracy:', score[1])"
   ]
  },
  {
   "cell_type": "code",
   "execution_count": 37,
   "metadata": {},
   "outputs": [
    {
     "data": {
      "image/png": "[encoded data removed]",
      "text/plain": [
       "<Figure size 864x432 with 2 Axes>"
      ]
     },
     "metadata": {
      "needs_background": "light"
     },
     "output_type": "display_data"
    }
   ],
   "source": [
    "plot_loss_accuracy(history_model_4)"
   ]
  },
  {
   "cell_type": "code",
   "execution_count": 38,
   "metadata": {},
   "outputs": [],
   "source": [
    "# In model_4, we are getting a slightly better accuracy, with reduced error loss. \n",
    "# let's make model_5 with an extra added layer."
   ]
  },
  {
   "cell_type": "code",
   "execution_count": 39,
   "metadata": {},
   "outputs": [],
   "source": [
    "model_5 = Sequential()\n",
    "model_5.add(Dense(400, activation='relu', input_shape=(784,)))\n",
    "model_5.add(Dropout(0.4))\n",
    "model_5.add(Dense(300, activation='relu'))\n",
    "model_5.add(Dropout(0.4))\n",
    "model_5.add(Dense(200, activation='relu'))\n",
    "model_5.add(Dropout(0.4))\n",
    "model_5.add(Dense(10, activation='softmax'))"
   ]
  },
  {
   "cell_type": "code",
   "execution_count": 40,
   "metadata": {},
   "outputs": [
    {
     "name": "stdout",
     "output_type": "stream",
     "text": [
      "_________________________________________________________________\n",
      "Layer (type)                 Output Shape              Param #   \n",
      "=================================================================\n",
      "dense_13 (Dense)             (None, 400)               314000    \n",
      "_________________________________________________________________\n",
      "dropout_9 (Dropout)          (None, 400)               0         \n",
      "_________________________________________________________________\n",
      "dense_14 (Dense)             (None, 300)               120300    \n",
      "_________________________________________________________________\n",
      "dropout_10 (Dropout)         (None, 300)               0         \n",
      "_________________________________________________________________\n",
      "dense_15 (Dense)             (None, 200)               60200     \n",
      "_________________________________________________________________\n",
      "dropout_11 (Dropout)         (None, 200)               0         \n",
      "_________________________________________________________________\n",
      "dense_16 (Dense)             (None, 10)                2010      \n",
      "=================================================================\n",
      "Total params: 496,510\n",
      "Trainable params: 496,510\n",
      "Non-trainable params: 0\n",
      "_________________________________________________________________\n"
     ]
    }
   ],
   "source": [
    "model_5.summary()"
   ]
  },
  {
   "cell_type": "code",
   "execution_count": 41,
   "metadata": {},
   "outputs": [],
   "source": [
    "learning_rate = .0001\n",
    "model_5.compile(loss='categorical_crossentropy',\n",
    "optimizer=RMSprop(lr=learning_rate),\n",
    "metrics=['accuracy'])"
   ]
  },
  {
   "cell_type": "code",
   "execution_count": 42,
   "metadata": {},
   "outputs": [
    {
     "name": "stdout",
     "output_type": "stream",
     "text": [
      "Train on 60000 samples, validate on 10000 samples\n",
      "Epoch 1/20\n",
      "60000/60000 [==============================] - 5s 91us/step - loss: 1.0790 - acc: 0.6527 - val_loss: 0.3465 - val_acc: 0.9006\n",
      "Epoch 2/20\n",
      "60000/60000 [==============================] - 5s 80us/step - loss: 0.4475 - acc: 0.8656 - val_loss: 0.2362 - val_acc: 0.9293\n",
      "Epoch 3/20\n",
      "60000/60000 [==============================] - 5s 80us/step - loss: 0.3243 - acc: 0.9033 - val_loss: 0.1879 - val_acc: 0.9414\n",
      "Epoch 4/20\n",
      "60000/60000 [==============================] - 5s 80us/step - loss: 0.2620 - acc: 0.9231 - val_loss: 0.1597 - val_acc: 0.9499\n",
      "Epoch 5/20\n",
      "60000/60000 [==============================] - 5s 80us/step - loss: 0.2226 - acc: 0.9335 - val_loss: 0.1396 - val_acc: 0.9569\n",
      "Epoch 6/20\n",
      "60000/60000 [==============================] - 5s 79us/step - loss: 0.1929 - acc: 0.9425 - val_loss: 0.1278 - val_acc: 0.9621\n",
      "Epoch 7/20\n",
      "60000/60000 [==============================] - 5s 79us/step - loss: 0.1733 - acc: 0.9491 - val_loss: 0.1150 - val_acc: 0.9647\n",
      "Epoch 8/20\n",
      "60000/60000 [==============================] - 5s 87us/step - loss: 0.1608 - acc: 0.9538 - val_loss: 0.1100 - val_acc: 0.9668\n",
      "Epoch 9/20\n",
      "60000/60000 [==============================] - 5s 91us/step - loss: 0.1458 - acc: 0.9579 - val_loss: 0.1023 - val_acc: 0.9688\n",
      "Epoch 10/20\n",
      "60000/60000 [==============================] - 5s 87us/step - loss: 0.1348 - acc: 0.9600 - val_loss: 0.0967 - val_acc: 0.9705\n",
      "Epoch 11/20\n",
      "60000/60000 [==============================] - 5s 88us/step - loss: 0.1250 - acc: 0.9635 - val_loss: 0.0924 - val_acc: 0.9721\n",
      "Epoch 12/20\n",
      "60000/60000 [==============================] - 5s 88us/step - loss: 0.1181 - acc: 0.9656 - val_loss: 0.0902 - val_acc: 0.9730\n",
      "Epoch 13/20\n",
      "60000/60000 [==============================] - 5s 89us/step - loss: 0.1125 - acc: 0.9674 - val_loss: 0.0857 - val_acc: 0.9743\n",
      "Epoch 14/20\n",
      "60000/60000 [==============================] - 5s 88us/step - loss: 0.1040 - acc: 0.9698 - val_loss: 0.0877 - val_acc: 0.9739\n",
      "Epoch 15/20\n",
      "60000/60000 [==============================] - 5s 89us/step - loss: 0.1009 - acc: 0.9712 - val_loss: 0.0825 - val_acc: 0.9754\n",
      "Epoch 16/20\n",
      "60000/60000 [==============================] - 5s 92us/step - loss: 0.0940 - acc: 0.9726 - val_loss: 0.0792 - val_acc: 0.9760\n",
      "Epoch 17/20\n",
      "60000/60000 [==============================] - 5s 89us/step - loss: 0.0900 - acc: 0.9746 - val_loss: 0.0799 - val_acc: 0.9758\n",
      "Epoch 18/20\n",
      "60000/60000 [==============================] - 5s 89us/step - loss: 0.0873 - acc: 0.9747 - val_loss: 0.0770 - val_acc: 0.9778\n",
      "Epoch 19/20\n",
      "60000/60000 [==============================] - 5s 90us/step - loss: 0.0858 - acc: 0.9755 - val_loss: 0.0765 - val_acc: 0.9785\n",
      "Epoch 20/20\n",
      "60000/60000 [==============================] - 5s 91us/step - loss: 0.0809 - acc: 0.9768 - val_loss: 0.0762 - val_acc: 0.9786\n"
     ]
    }
   ],
   "source": [
    "batch_size = 128\n",
    "epochs = 20\n",
    "history_model_5 = model_5.fit(\n",
    "x_train, y_train,\n",
    "batch_size=batch_size,\n",
    "epochs=epochs,\n",
    "verbose=1,\n",
    "validation_data=(x_test, y_test))"
   ]
  },
  {
   "cell_type": "code",
   "execution_count": 43,
   "metadata": {},
   "outputs": [
    {
     "name": "stdout",
     "output_type": "stream",
     "text": [
      "Test loss: 0.07617409284939058\n",
      "Test accuracy: 0.9786\n"
     ]
    }
   ],
   "source": [
    "score = model_5.evaluate(x_test, y_test, verbose=0)\n",
    "print('Test loss:', score[0])\n",
    "print('Test accuracy:', score[1])"
   ]
  },
  {
   "cell_type": "code",
   "execution_count": 44,
   "metadata": {},
   "outputs": [
    {
     "data": {
      "image/png": "[encoded data removed]",
      "text/plain": [
       "<Figure size 864x432 with 2 Axes>"
      ]
     },
     "metadata": {
      "needs_background": "light"
     },
     "output_type": "display_data"
    }
   ],
   "source": [
    "plot_loss_accuracy(history_model_5)"
   ]
  },
  {
   "cell_type": "code",
   "execution_count": 45,
   "metadata": {},
   "outputs": [],
   "source": [
    "# Even after adding, another layer, no significant improvement can be observed.\n",
    "# Let's try increasing epochs to 25 for the same model."
   ]
  },
  {
   "cell_type": "code",
   "execution_count": 49,
   "metadata": {},
   "outputs": [],
   "source": [
    "model_6 = Sequential()\n",
    "model_6.add(Dense(400, activation='relu', input_shape=(784,)))\n",
    "model_6.add(Dropout(0.4))\n",
    "model_6.add(Dense(300, activation='relu'))\n",
    "model_6.add(Dropout(0.4))\n",
    "model_6.add(Dense(200, activation='relu'))\n",
    "model_6.add(Dropout(0.4))\n",
    "model_6.add(Dense(10, activation='softmax'))"
   ]
  },
  {
   "cell_type": "code",
   "execution_count": 50,
   "metadata": {},
   "outputs": [
    {
     "name": "stdout",
     "output_type": "stream",
     "text": [
      "_________________________________________________________________\n",
      "Layer (type)                 Output Shape              Param #   \n",
      "=================================================================\n",
      "dense_17 (Dense)             (None, 400)               314000    \n",
      "_________________________________________________________________\n",
      "dropout_12 (Dropout)         (None, 400)               0         \n",
      "_________________________________________________________________\n",
      "dense_18 (Dense)             (None, 300)               120300    \n",
      "_________________________________________________________________\n",
      "dropout_13 (Dropout)         (None, 300)               0         \n",
      "_________________________________________________________________\n",
      "dense_19 (Dense)             (None, 200)               60200     \n",
      "_________________________________________________________________\n",
      "dropout_14 (Dropout)         (None, 200)               0         \n",
      "_________________________________________________________________\n",
      "dense_20 (Dense)             (None, 10)                2010      \n",
      "=================================================================\n",
      "Total params: 496,510\n",
      "Trainable params: 496,510\n",
      "Non-trainable params: 0\n",
      "_________________________________________________________________\n"
     ]
    }
   ],
   "source": [
    "model_6.summary()"
   ]
  },
  {
   "cell_type": "code",
   "execution_count": 51,
   "metadata": {},
   "outputs": [],
   "source": [
    "learning_rate = .0001\n",
    "model_6.compile(loss='categorical_crossentropy',\n",
    "optimizer=RMSprop(lr=learning_rate),\n",
    "metrics=['accuracy'])"
   ]
  },
  {
   "cell_type": "code",
   "execution_count": 52,
   "metadata": {},
   "outputs": [
    {
     "name": "stdout",
     "output_type": "stream",
     "text": [
      "Train on 60000 samples, validate on 10000 samples\n",
      "Epoch 1/25\n",
      "60000/60000 [==============================] - 6s 94us/step - loss: 1.1268 - acc: 0.6344 - val_loss: 0.3536 - val_acc: 0.9014\n",
      "Epoch 2/25\n",
      "60000/60000 [==============================] - 5s 80us/step - loss: 0.4511 - acc: 0.8638 - val_loss: 0.2377 - val_acc: 0.9283\n",
      "Epoch 3/25\n",
      "60000/60000 [==============================] - 5s 81us/step - loss: 0.3289 - acc: 0.9022 - val_loss: 0.1945 - val_acc: 0.9414\n",
      "Epoch 4/25\n",
      "60000/60000 [==============================] - 5s 82us/step - loss: 0.2654 - acc: 0.9213 - val_loss: 0.1648 - val_acc: 0.9496\n",
      "Epoch 5/25\n",
      "60000/60000 [==============================] - 5s 80us/step - loss: 0.2266 - acc: 0.9336 - val_loss: 0.1469 - val_acc: 0.9561\n",
      "Epoch 6/25\n",
      "60000/60000 [==============================] - 5s 80us/step - loss: 0.1979 - acc: 0.9431 - val_loss: 0.1320 - val_acc: 0.9588\n",
      "Epoch 7/25\n",
      "60000/60000 [==============================] - 5s 81us/step - loss: 0.1771 - acc: 0.9480 - val_loss: 0.1200 - val_acc: 0.9625\n",
      "Epoch 8/25\n",
      "60000/60000 [==============================] - 5s 88us/step - loss: 0.1625 - acc: 0.9530 - val_loss: 0.1139 - val_acc: 0.9636\n",
      "Epoch 9/25\n",
      "60000/60000 [==============================] - 5s 88us/step - loss: 0.1502 - acc: 0.9564 - val_loss: 0.1070 - val_acc: 0.9670\n",
      "Epoch 10/25\n",
      "60000/60000 [==============================] - 5s 88us/step - loss: 0.1380 - acc: 0.9595 - val_loss: 0.1018 - val_acc: 0.9687\n",
      "Epoch 11/25\n",
      "60000/60000 [==============================] - 5s 88us/step - loss: 0.1302 - acc: 0.9618 - val_loss: 0.0975 - val_acc: 0.9706\n",
      "Epoch 12/25\n",
      "60000/60000 [==============================] - 5s 87us/step - loss: 0.1212 - acc: 0.9645 - val_loss: 0.0944 - val_acc: 0.9720\n",
      "Epoch 13/25\n",
      "60000/60000 [==============================] - 5s 88us/step - loss: 0.1155 - acc: 0.9667 - val_loss: 0.0919 - val_acc: 0.9729\n",
      "Epoch 14/25\n",
      "60000/60000 [==============================] - 5s 88us/step - loss: 0.1081 - acc: 0.9690 - val_loss: 0.0921 - val_acc: 0.9728\n",
      "Epoch 15/25\n",
      "60000/60000 [==============================] - 5s 88us/step - loss: 0.1050 - acc: 0.9694 - val_loss: 0.0882 - val_acc: 0.9741\n",
      "Epoch 16/25\n",
      "60000/60000 [==============================] - 5s 88us/step - loss: 0.1007 - acc: 0.9717 - val_loss: 0.0876 - val_acc: 0.9745\n",
      "Epoch 17/25\n",
      "60000/60000 [==============================] - 5s 88us/step - loss: 0.0942 - acc: 0.9735 - val_loss: 0.0865 - val_acc: 0.9752\n",
      "Epoch 18/25\n",
      "60000/60000 [==============================] - 5s 88us/step - loss: 0.0918 - acc: 0.9735 - val_loss: 0.0856 - val_acc: 0.9753\n",
      "Epoch 19/25\n",
      "60000/60000 [==============================] - 5s 88us/step - loss: 0.0870 - acc: 0.9751 - val_loss: 0.0825 - val_acc: 0.9764\n",
      "Epoch 20/25\n",
      "60000/60000 [==============================] - 5s 88us/step - loss: 0.0813 - acc: 0.9764 - val_loss: 0.0860 - val_acc: 0.9760\n",
      "Epoch 21/25\n",
      "60000/60000 [==============================] - 5s 88us/step - loss: 0.0789 - acc: 0.9774 - val_loss: 0.0827 - val_acc: 0.9766\n",
      "Epoch 22/25\n",
      "60000/60000 [==============================] - 5s 89us/step - loss: 0.0758 - acc: 0.9784 - val_loss: 0.0832 - val_acc: 0.9776\n",
      "Epoch 23/25\n",
      "60000/60000 [==============================] - 5s 88us/step - loss: 0.0750 - acc: 0.9787 - val_loss: 0.0817 - val_acc: 0.9774\n",
      "Epoch 24/25\n",
      "60000/60000 [==============================] - 5s 89us/step - loss: 0.0716 - acc: 0.9797 - val_loss: 0.0837 - val_acc: 0.9778\n",
      "Epoch 25/25\n",
      "60000/60000 [==============================] - 5s 89us/step - loss: 0.0696 - acc: 0.9800 - val_loss: 0.0827 - val_acc: 0.9774\n"
     ]
    }
   ],
   "source": [
    "batch_size = 128\n",
    "epochs = 25\n",
    "history_model_6 = model_6.fit(\n",
    "x_train, y_train,\n",
    "batch_size=batch_size,\n",
    "epochs=epochs,\n",
    "verbose=1,\n",
    "validation_data=(x_test, y_test))"
   ]
  },
  {
   "cell_type": "code",
   "execution_count": 53,
   "metadata": {},
   "outputs": [
    {
     "name": "stdout",
     "output_type": "stream",
     "text": [
      "Test loss: 0.08270377561638888\n",
      "Test accuracy: 0.9774\n"
     ]
    }
   ],
   "source": [
    "score = model_6.evaluate(x_test, y_test, verbose=0)\n",
    "print('Test loss:', score[0])\n",
    "print('Test accuracy:', score[1])"
   ]
  },
  {
   "cell_type": "code",
   "execution_count": 54,
   "metadata": {},
   "outputs": [
    {
     "data": {
      "image/png": "[encoded data removed]",
      "text/plain": [
       "<Figure size 864x432 with 2 Axes>"
      ]
     },
     "metadata": {
      "needs_background": "light"
     },
     "output_type": "display_data"
    }
   ],
   "source": [
    "plot_loss_accuracy(history_model_6)"
   ]
  },
  {
   "cell_type": "code",
   "execution_count": 55,
   "metadata": {},
   "outputs": [],
   "source": [
    "###################################################################################################\n",
    "#\n",
    "# Below are the results for model_6:\n",
    "#\n",
    "# Test loss: 0.08270377561638888\n",
    "# Test accuracy: 0.9774\n",
    "#\n",
    "# Val loss: 0.0696\n",
    "# Val accuracy: 0.9774\n",
    "#\n",
    "# Below are the results for model_5:\n",
    "#\n",
    "# Test loss: 0.07617409284939058\n",
    "# Test accuracy: 0.9786\n",
    "#\n",
    "# Val loss: 0.0762\n",
    "# Val accuracy: 0.9786"
   ]
  },
  {
   "cell_type": "code",
   "execution_count": null,
   "metadata": {},
   "outputs": [],
   "source": []
  }
 ],
 "metadata": {
  "kernelspec": {
   "display_name": "Python 3",
   "language": "python",
   "name": "python3"
  },
  "language_info": {
   "codemirror_mode": {
    "name": "ipython",
    "version": 3
   },
   "file_extension": ".py",
   "mimetype": "text/x-python",
   "name": "python",
   "nbconvert_exporter": "python",
   "pygments_lexer": "ipython3",
   "version": "3.6.7"
  }
 },
 "nbformat": 4,
 "nbformat_minor": 1
}
